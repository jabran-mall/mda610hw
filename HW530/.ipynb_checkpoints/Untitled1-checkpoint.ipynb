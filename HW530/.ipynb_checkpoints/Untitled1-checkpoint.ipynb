{
 "cells": [
  {
   "cell_type": "code",
   "execution_count": 2,
   "metadata": {},
   "outputs": [
    {
     "data": {
      "text/plain": [
       "array([[1, 1, 1],\n",
       "       [1, 1, 1]])"
      ]
     },
     "execution_count": 2,
     "metadata": {},
     "output_type": "execute_result"
    }
   ],
   "source": [
    "#7.1\n",
    "import numpy as np\n",
    "np.ones((2,3), dtype = int)\n"
   ]
  },
  {
   "cell_type": "code",
   "execution_count": 2,
   "metadata": {},
   "outputs": [
    {
     "data": {
      "text/plain": [
       "array([[0, 0, 0],\n",
       "       [0, 0, 0],\n",
       "       [0, 0, 0]])"
      ]
     },
     "execution_count": 2,
     "metadata": {},
     "output_type": "execute_result"
    }
   ],
   "source": [
    "np.zeros((3,3), dtype = int)"
   ]
  },
  {
   "cell_type": "code",
   "execution_count": 3,
   "metadata": {},
   "outputs": [
    {
     "data": {
      "text/plain": [
       "array([[7, 7, 7, 7, 7],\n",
       "       [7, 7, 7, 7, 7]])"
      ]
     },
     "execution_count": 3,
     "metadata": {},
     "output_type": "execute_result"
    }
   ],
   "source": [
    "np.full((2,5), 7)"
   ]
  },
  {
   "cell_type": "code",
   "execution_count": 4,
   "metadata": {},
   "outputs": [
    {
     "data": {
      "text/plain": [
       "array([0, 2, 4, 6])"
      ]
     },
     "execution_count": 4,
     "metadata": {},
     "output_type": "execute_result"
    }
   ],
   "source": [
    "#7.2\n",
    "np.arange(0,4) #creating array of range (0,3)\n",
    "np.arange(0,4) + 7 # add 7 to every element \n",
    "np.arange(0,4) *2 # multiply every element by 2\n"
   ]
  },
  {
   "cell_type": "code",
   "execution_count": 5,
   "metadata": {},
   "outputs": [
    {
     "data": {
      "text/plain": [
       "array([[18, 32, 42],\n",
       "       [48, 50, 48],\n",
       "       [42, 32, 18]])"
      ]
     },
     "execution_count": 5,
     "metadata": {},
     "output_type": "execute_result"
    }
   ],
   "source": [
    "#7.3\n",
    "Array1 = np.arange(2,20,2).reshape(3,3) # create an array of even numbers from 2 -18 of dim 3*3\n",
    "Array2 = np.arange(9, 0, -1).reshape(3,3)# create an array of numbers from 9 -1 of dim 3*3\n",
    "Array1 * Array2 #multiplying the two arrays "
   ]
  },
  {
   "cell_type": "code",
   "execution_count": 6,
   "metadata": {},
   "outputs": [
    {
     "data": {
      "text/plain": [
       "array([[ 2,  3,  5,  7, 11],\n",
       "       [13, 17, 19, 23, 29]])"
      ]
     },
     "execution_count": 6,
     "metadata": {},
     "output_type": "execute_result"
    }
   ],
   "source": [
    "#7.4\n",
    "List1=[2,3,5,7,11]\n",
    "List2=[13,17,19,23,29]\n",
    "np.vstack((List1, List2))"
   ]
  },
  {
   "cell_type": "code",
   "execution_count": 7,
   "metadata": {},
   "outputs": [
    {
     "data": {
      "text/plain": [
       "array([[ 1,  0,  4],\n",
       "       [ 8, 32, 64]])"
      ]
     },
     "execution_count": 7,
     "metadata": {},
     "output_type": "execute_result"
    }
   ],
   "source": [
    "#7.5\n",
    "Array3 = np.array([1,0,4,8,32,64]).reshape(2,3) #creating an array with first 6 powers of 2 with dim(2,3)\n",
    "Array3.flatten() #applying the flatten func\n",
    "Array3 #checking to see if flatten func has changed the oringinal array\n",
    "Array3.ravel() #applying the ravel func\n",
    "Array3 #checking to see if the original array has been changed\n"
   ]
  },
  {
   "cell_type": "code",
   "execution_count": 8,
   "metadata": {},
   "outputs": [
    {
     "data": {
      "text/plain": [
       "array([[ 6,  8, 10],\n",
       "       [11, 13, 15]])"
      ]
     },
     "execution_count": 8,
     "metadata": {},
     "output_type": "execute_result"
    }
   ],
   "source": [
    "#7.9\n",
    "Array4 = np.arange(1,16).reshape(3,5) #creating an array of elements (1,15) with dimension (3,5)\n",
    "Array4[2]#calling row index 2\n",
    "Array4[:, 4:5] #due to default python indexing starting from 0, column 5 is index 4 \n",
    "Array4[0:2]#selecting rows 0 - 1\n",
    "Array4[:,2:4]#selecting columns 2-4\n",
    "Array4[1,4]#selecting row1 and col4\n",
    "Array4[1:3, [0,2,4]]#select all elements from rows 1 and 2 that are in columns 0,2 and 4"
   ]
  },
  {
   "cell_type": "code",
   "execution_count": null,
   "metadata": {},
   "outputs": [
    {
     "name": "stdout",
     "output_type": "stream",
     "text": [
      "Welcome to Tic-Tac-Toe!\n",
      "AI not implemented yet.\n",
      "0 | 1 | 2\n",
      "----------\n",
      "3 | 4 | 5\n",
      "----------\n",
      "6 | 7 | 8\n",
      "X's turn.\n"
     ]
    }
   ],
   "source": [
    "#7.10\n",
    "# Defining Main Game Functions, variables, etc.\n",
    "board = [0,1,2,\n",
    "         3,4,5,\n",
    "         6,7,8]\n",
    "win_con = [[0,1,2],[3,4,5],[6,7,8],\n",
    "            [0,3,6],[1,4,7],[2,5,8],\n",
    "            [0,4,8],[2,4,6]] # possible 3-in-a-rows\n",
    "def show():\n",
    "    print(board[0],'|',board[1],'|',board[2])\n",
    "    print('----------')\n",
    "    print(board[3],'|',board[4],'|',board[5])\n",
    "    print('----------')\n",
    "    print(board[6],'|',board[7],'|',board[8])\n",
    "def x_move(i):\n",
    "    if board[i] == 'X' or board[i] == 'O':\n",
    "        return print('Already taken!')\n",
    "    else:\n",
    "        del board[i]\n",
    "        board.insert(i,'X')\n",
    "def o_move(i):\n",
    "    if board[i] == 'X' or board[i] == 'O':\n",
    "        return print('Already taken!')\n",
    "    else:\n",
    "        del board[i]\n",
    "        board.insert(i,'O')    \n",
    "# Main Game Loop\n",
    "while True:\n",
    "    turn_num = 1\n",
    "    board = [0,1,2,3,4,5,6,7,8]\n",
    "    print('Welcome to Tic-Tac-Toe!')\n",
    "    print('AI not implemented yet.')\n",
    "    while True:\n",
    "        for list in win_con: # check if someone's won\n",
    "            xnum = 0\n",
    "            onum = 0\n",
    "            for num in list:\n",
    "                if board[num] == 'X':\n",
    "                    xnum += 1\n",
    "                elif board[num] == 'O':\n",
    "                    onum += 1\n",
    "                else:\n",
    "                    pass\n",
    "            if xnum == 3 or onum == 3:\n",
    "                break\n",
    "        if xnum == 3 or onum == 3: # break out of all loops\n",
    "            break\n",
    "        if turn_num > 9: # check if board is full\n",
    "            break\n",
    "        show()\n",
    "        if turn_num % 2 == 1:\n",
    "            print('X\\'s turn.')\n",
    "        else:\n",
    "            print('O\\'s turn.')\n",
    "        move = int(input('Choose a space. '))\n",
    "        if turn_num % 2 == 1:\n",
    "            x_move(move)\n",
    "        else:\n",
    "            o_move(move)\n",
    "        turn_num += 1\n",
    "    if xnum == 3: # After game is over\n",
    "        print('X Won!')\n",
    "    elif onum == 3:\n",
    "        print('O Won!')\n",
    "    else:\n",
    "        print('Draw!')\n",
    "    play_again = input('Play again? Y or N ')\n",
    "    if play_again == 'Y' or play_again == 'y':\n",
    "        continue\n",
    "    else:\n",
    "        break"
   ]
  },
  {
   "cell_type": "code",
   "execution_count": 6,
   "metadata": {},
   "outputs": [],
   "source": [
    "#7.14\n",
    "array1 = np.array([[0,1],[2,3]])\n",
    "array2 = np.array([[4,5],[6,7]])\n",
    "array3 = np.vstack((array1,array2))"
   ]
  },
  {
   "cell_type": "code",
   "execution_count": 7,
   "metadata": {},
   "outputs": [
    {
     "data": {
      "text/plain": [
       "array([[0, 1],\n",
       "       [2, 3],\n",
       "       [4, 5],\n",
       "       [6, 7]])"
      ]
     },
     "execution_count": 7,
     "metadata": {},
     "output_type": "execute_result"
    }
   ],
   "source": [
    "array3"
   ]
  },
  {
   "cell_type": "code",
   "execution_count": 8,
   "metadata": {},
   "outputs": [],
   "source": [
    "array4 = np.hstack((array1,array2))\n",
    "array4"
   ]
  },
  {
   "cell_type": "code",
   "execution_count": null,
   "metadata": {},
   "outputs": [],
   "source": []
  },
  {
   "cell_type": "code",
   "execution_count": 14,
   "metadata": {},
   "outputs": [
    {
     "data": {
      "text/plain": [
       "array([[0, 1, 4, 5],\n",
       "       [2, 3, 6, 7],\n",
       "       [0, 1, 4, 5],\n",
       "       [2, 3, 6, 7]])"
      ]
     },
     "execution_count": 14,
     "metadata": {},
     "output_type": "execute_result"
    }
   ],
   "source": [
    "array5 = np.vstack((array4,array4))\n",
    "array5"
   ]
  },
  {
   "cell_type": "code",
   "execution_count": 15,
   "metadata": {},
   "outputs": [
    {
     "data": {
      "text/plain": [
       "array([[0, 1, 0, 1],\n",
       "       [2, 3, 2, 3],\n",
       "       [4, 5, 4, 5],\n",
       "       [6, 7, 6, 7]])"
      ]
     },
     "execution_count": 15,
     "metadata": {},
     "output_type": "execute_result"
    }
   ],
   "source": [
    "array6 = np.hstack((array3,array3))\n",
    "array6"
   ]
  },
  {
   "cell_type": "code",
   "execution_count": 13,
   "metadata": {},
   "outputs": [
    {
     "data": {
      "text/plain": [
       "array([[0, 1, 0, 1],\n",
       "       [2, 3, 2, 3],\n",
       "       [4, 5, 4, 5],\n",
       "       [6, 7, 6, 7]])"
      ]
     },
     "execution_count": 13,
     "metadata": {},
     "output_type": "execute_result"
    }
   ],
   "source": []
  },
  {
   "cell_type": "code",
   "execution_count": null,
   "metadata": {},
   "outputs": [],
   "source": []
  }
 ],
 "metadata": {
  "kernelspec": {
   "display_name": "Python 3",
   "language": "python",
   "name": "python3"
  },
  "language_info": {
   "codemirror_mode": {
    "name": "ipython",
    "version": 3
   },
   "file_extension": ".py",
   "mimetype": "text/x-python",
   "name": "python",
   "nbconvert_exporter": "python",
   "pygments_lexer": "ipython3",
   "version": "3.7.3"
  }
 },
 "nbformat": 4,
 "nbformat_minor": 2
}
