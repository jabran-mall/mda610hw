{
 "cells": [
  {
   "cell_type": "markdown",
   "metadata": {},
   "source": [
    "def reverse(string):\n",
    "    string = \"\". join(reversed(string))# creating a reverse function\n",
    "    return string \n"
   ]
  },
  {
   "cell_type": "markdown",
   "metadata": {},
   "source": [
    "s = \"Jabran\"\n",
    "print (\"the original string is:\",end=\"\")# output\n",
    "print (s)\n",
    "print (\"the reversed string (using reversed) is :\", end=\"\")\n",
    "print (reverse(s))\n",
    "\n"
   ]
  },
  {
   "cell_type": "markdown",
   "metadata": {},
   "source": [
    "list= [1,2,3] \n",
    "list.append(4)\n",
    "def Average(list):#function for average\n",
    "    return sum(list)/len(list)#putting the values for avg\n",
    "average= Average(list)\n",
    "print (\"Average of the list =\", round(average,2))#output\n"
   ]
  },
  {
   "cell_type": "markdown",
   "metadata": {},
   "source": [
    "import math\n",
    "r=float(input(\"enter the radius of a circle: \"))#user input\n",
    "area= math.pi*r*r #given condition\n",
    "print(\"area of the cirlce is \",area) #output "
   ]
  },
  {
   "cell_type": "markdown",
   "metadata": {},
   "source": [
    "import math\n",
    "x=float(input(\"enter the value of x: \"))#user input\n",
    "y=math.log(5.2)**x #given condition\n",
    "math.log(y), math.log10(y) #natural and common logarithms of y\n",
    "print(\"common log of y: \",math.log10(y), \"natural log of y: \",math.log(y))#output"
   ]
  },
  {
   "cell_type": "code",
   "execution_count": null,
   "metadata": {},
   "outputs": [],
   "source": []
  }
 ],
 "metadata": {
  "kernelspec": {
   "display_name": "Python 3",
   "language": "python",
   "name": "python3"
  },
  "language_info": {
   "codemirror_mode": {
    "name": "ipython",
    "version": 3
   },
   "file_extension": ".py",
   "mimetype": "text/x-python",
   "name": "python",
   "nbconvert_exporter": "python",
   "pygments_lexer": "ipython3",
   "version": "3.7.3"
  }
 },
 "nbformat": 4,
 "nbformat_minor": 2
}
