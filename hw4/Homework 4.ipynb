{
 "cells": [
  {
   "cell_type": "code",
   "execution_count": null,
   "metadata": {},
   "outputs": [],
   "source": [
    "# creating a reverse function"
   ]
  },
  {
   "cell_type": "code",
   "execution_count": 4,
   "metadata": {},
   "outputs": [
    {
     "name": "stdout",
     "output_type": "stream",
     "text": [
      "the original string is:Jabran\n",
      "the reversed string (using reversed) is :narbaJ\n"
     ]
    }
   ],
   "source": [
    "def reverse(string):\n",
    "    string = \"\". join(reversed(string))\n",
    "    return string \n",
    "\n",
    "s = \"Jabran\"\n",
    "print (\"the original string is:\",end=\"\")\n",
    "print (s)\n",
    "print (\"the reversed string (using reversed) is :\", end=\"\")\n",
    "print (reverse(s))\n",
    "\n"
   ]
  },
  {
   "cell_type": "code",
   "execution_count": null,
   "metadata": {},
   "outputs": [],
   "source": [
    "# finding the average of the list"
   ]
  },
  {
   "cell_type": "code",
   "execution_count": 2,
   "metadata": {},
   "outputs": [
    {
     "name": "stdout",
     "output_type": "stream",
     "text": [
      "Average of the list = 2.5\n"
     ]
    }
   ],
   "source": [
    "list= [1,2,3] \n",
    "list.append(4)\n",
    "def Average(list):\n",
    "    return sum(list)/len(list)\n",
    "average= Average(list)\n",
    "print (\"Average of the list =\", round(average,2))#output\n"
   ]
  },
  {
   "cell_type": "code",
   "execution_count": null,
   "metadata": {},
   "outputs": [],
   "source": [
    "# formula for the radius of a circle"
   ]
  },
  {
   "cell_type": "code",
   "execution_count": 1,
   "metadata": {},
   "outputs": [
    {
     "name": "stdout",
     "output_type": "stream",
     "text": [
      "enter the radius of a circle: 2\n",
      "area of the cirlce is  12.566370614359172\n"
     ]
    }
   ],
   "source": [
    "import math\n",
    "r=float(input(\"enter the radius of a circle: \"))\n",
    "area= math.pi*r*r\n",
    "print(\"area of the cirlce is \",area) "
   ]
  },
  {
   "cell_type": "code",
   "execution_count": null,
   "metadata": {},
   "outputs": [],
   "source": [
    "# log10 and natural log of a number "
   ]
  },
  {
   "cell_type": "code",
   "execution_count": null,
   "metadata": {},
   "outputs": [],
   "source": [
    "import math\n",
    "x=float(input(\"enter the value of x: \"))#user input\n",
    "y=math.log(5.2)**x #given condition\n",
    "math.log(y), math.log10(y) #natural and common logarithms of y\n",
    "print(\"common log of y: \",math.log10(y), \"natural log of y: \",math.log(y))#output"
   ]
  }
 ],
 "metadata": {
  "kernelspec": {
   "display_name": "Python 3",
   "language": "python",
   "name": "python3"
  },
  "language_info": {
   "codemirror_mode": {
    "name": "ipython",
    "version": 3
   },
   "file_extension": ".py",
   "mimetype": "text/x-python",
   "name": "python",
   "nbconvert_exporter": "python",
   "pygments_lexer": "ipython3",
   "version": "3.7.3"
  }
 },
 "nbformat": 4,
 "nbformat_minor": 2
}
