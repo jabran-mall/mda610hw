{
 "cells": [
  {
   "cell_type": "code",
   "execution_count": null,
   "metadata": {},
   "outputs": [],
   "source": [
    "def reverse(string):\n",
    "    string = \"\". join(reversed(string))\n",
    "    return string\n"
   ]
  },
  {
   "cell_type": "code",
   "execution_count": 5,
   "metadata": {},
   "outputs": [
    {
     "name": "stdout",
     "output_type": "stream",
     "text": [
      "the original string is:Jabran\n",
      "the reversed string (using reversed) is :narbaJ\n"
     ]
    }
   ],
   "source": [
    "s = \"Jabran\"\n",
    "print (\"the original string is:\",end=\"\")\n",
    "print (s)\n",
    "print (\"the reversed string (using reversed) is :\", end=\"\")\n",
    "print (reverse(s))\n",
    "\n"
   ]
  },
  {
   "cell_type": "code",
   "execution_count": 9,
   "metadata": {},
   "outputs": [
    {
     "name": "stdout",
     "output_type": "stream",
     "text": [
      "Average of the list = 2.5\n"
     ]
    }
   ],
   "source": [
    "list= [1,2,3] \n",
    "list.append(4)\n",
    "def Average(list):\n",
    "    return sum(list)/len(list)\n",
    "average= Average(list)\n",
    "print (\"Average of the list =\", round(average,2))\n"
   ]
  },
  {
   "cell_type": "code",
   "execution_count": 22,
   "metadata": {},
   "outputs": [
    {
     "ename": "SyntaxError",
     "evalue": "invalid syntax (<ipython-input-22-a7f3ed7aa8be>, line 5)",
     "output_type": "error",
     "traceback": [
      "\u001b[1;36m  File \u001b[1;32m\"<ipython-input-22-a7f3ed7aa8be>\"\u001b[1;36m, line \u001b[1;32m5\u001b[0m\n\u001b[1;33m    def Area_of_circle:\u001b[0m\n\u001b[1;37m                      ^\u001b[0m\n\u001b[1;31mSyntaxError\u001b[0m\u001b[1;31m:\u001b[0m invalid syntax\n"
     ]
    }
   ],
   "source": [
    "import math\n",
    "dir(math)\n",
    "math.pi\n",
    "R= 2\n",
    "def Area_of_circle:\n",
    "    R= 2\n",
    "    return math.pi*(R*R);\n",
    "print (\"Area_of_circle =\")\n",
    "\n",
    "\n",
    "\n"
   ]
  },
  {
   "cell_type": "code",
   "execution_count": null,
   "metadata": {},
   "outputs": [],
   "source": []
  },
  {
   "cell_type": "code",
   "execution_count": null,
   "metadata": {},
   "outputs": [],
   "source": []
  },
  {
   "cell_type": "code",
   "execution_count": null,
   "metadata": {},
   "outputs": [],
   "source": []
  }
 ],
 "metadata": {
  "kernelspec": {
   "display_name": "Python 3",
   "language": "python",
   "name": "python3"
  },
  "language_info": {
   "codemirror_mode": {
    "name": "ipython",
    "version": 3
   },
   "file_extension": ".py",
   "mimetype": "text/x-python",
   "name": "python",
   "nbconvert_exporter": "python",
   "pygments_lexer": "ipython3",
   "version": "3.7.3"
  }
 },
 "nbformat": 4,
 "nbformat_minor": 2
}
