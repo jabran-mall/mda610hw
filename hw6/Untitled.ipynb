{
 "cells": [
  {
   "cell_type": "code",
   "execution_count": 3,
   "metadata": {},
   "outputs": [
    {
     "name": "stdout",
     "output_type": "stream",
     "text": [
      "(1, 10)\n"
     ]
    }
   ],
   "source": [
    "#Write a function min_and _max to find the minimum and maximum of a list.\n",
    "\n",
    "list = [1,2,3,4,5,6,7,8,9,10]\n",
    "min_and_max = min(list), max(list)\n",
    "print(min_and_max)"
   ]
  },
  {
   "cell_type": "code",
   "execution_count": 4,
   "metadata": {},
   "outputs": [
    {
     "name": "stdout",
     "output_type": "stream",
     "text": [
      "[ 1  6  8 14]\n"
     ]
    }
   ],
   "source": [
    "#Write a function cum_sum to complete the cumulative sum of a list\n",
    "import numpy as np\n",
    "a=[1,5,2,6]\n",
    "print(np.cumsum(a))"
   ]
  },
  {
   "cell_type": "code",
   "execution_count": 5,
   "metadata": {},
   "outputs": [
    {
     "name": "stdout",
     "output_type": "stream",
     "text": [
      "The dot product of a and b is 22\n"
     ]
    }
   ],
   "source": [
    "#Write a function dot that takes two lines of equal length as arguments, and return the inner value\n",
    "\n",
    "a = [1,5,2,6]\n",
    "b= [0,2,3,1]\n",
    "dot_product = np.array(a) @ np.array(b)\n",
    "print(\"The dot product of a and b is\", dot_product)\n"
   ]
  },
  {
   "cell_type": "markdown",
   "metadata": {},
   "source": []
  }
 ],
 "metadata": {
  "kernelspec": {
   "display_name": "Python 3",
   "language": "python",
   "name": "python3"
  },
  "language_info": {
   "codemirror_mode": {
    "name": "ipython",
    "version": 3
   },
   "file_extension": ".py",
   "mimetype": "text/x-python",
   "name": "python",
   "nbconvert_exporter": "python",
   "pygments_lexer": "ipython3",
   "version": "3.7.3"
  }
 },
 "nbformat": 4,
 "nbformat_minor": 2
}
