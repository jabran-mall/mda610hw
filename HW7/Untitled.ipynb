{
 "cells": [
  {
   "cell_type": "markdown",
   "metadata": {},
   "source": [
    "#creating a function to test sample variance and sample standard daviation"
   ]
  },
  {
   "cell_type": "code",
   "execution_count": 2,
   "metadata": {},
   "outputs": [
    {
     "data": {
      "text/plain": [
       "{'Mean': 59.0, 'Standard Deviation': 0.0009525986892242037, 'Variance': 32.4}"
      ]
     },
     "execution_count": 2,
     "metadata": {},
     "output_type": "execute_result"
    }
   ],
   "source": [
    "\n",
    "Stats= {}\n",
    "def comp(nums):\n",
    "    count=len(nums)\n",
    "    mean=sum(nums)/count\n",
    "    Stats['Mean']=mean\n",
    "    squared= []\n",
    "    for i in nums:\n",
    "        t=(i-mean)**2\n",
    "        squared.append(t)\n",
    "        Stats['Standard Deviation']=((sum(squared))/len(nums))**-2\n",
    "        Stats['Variance']=(sum(squared))/len(nums)\n",
    "        return(Stats)\n",
    "\n",
    "raw=[77,45,88,2,36,45,20,78,99,100]\n",
    "\n",
    "comp(raw)\n",
    "    \n",
    "    "
   ]
  },
  {
   "cell_type": "code",
   "execution_count": null,
   "metadata": {},
   "outputs": [],
   "source": [
    "#User input mean with their choice to stop"
   ]
  },
  {
   "cell_type": "code",
   "execution_count": 7,
   "metadata": {},
   "outputs": [
    {
     "name": "stdout",
     "output_type": "stream",
     "text": [
      "Enter a series of numbers. When the series is done type stop:5,6,7,stop,9\n"
     ]
    },
    {
     "data": {
      "text/plain": [
       "5.0"
      ]
     },
     "execution_count": 7,
     "metadata": {},
     "output_type": "execute_result"
    }
   ],
   "source": [
    "def mean():\n",
    "    x=input(\"Enter a series of numbers. When the series is done type stop:\")\n",
    "    huh=x.split(\",\",)\n",
    "    \n",
    "    new=[]\n",
    "    \n",
    "    for i in huh:\n",
    "        if i =='stop':\n",
    "            break\n",
    "        else:\n",
    "                new.append(int(i))\n",
    "        avg=sum(new)/len(new)\n",
    "        return(avg)\n",
    "    \n",
    "mean()\n",
    "        "
   ]
  },
  {
   "cell_type": "code",
   "execution_count": null,
   "metadata": {},
   "outputs": [],
   "source": []
  },
  {
   "cell_type": "code",
   "execution_count": null,
   "metadata": {},
   "outputs": [],
   "source": []
  }
 ],
 "metadata": {
  "kernelspec": {
   "display_name": "Python 3",
   "language": "python",
   "name": "python3"
  },
  "language_info": {
   "codemirror_mode": {
    "name": "ipython",
    "version": 3
   },
   "file_extension": ".py",
   "mimetype": "text/x-python",
   "name": "python",
   "nbconvert_exporter": "python",
   "pygments_lexer": "ipython3",
   "version": "3.7.3"
  }
 },
 "nbformat": 4,
 "nbformat_minor": 2
}
